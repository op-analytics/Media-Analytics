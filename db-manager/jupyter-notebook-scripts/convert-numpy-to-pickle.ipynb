{
 "cells": [
  {
   "cell_type": "code",
   "execution_count": 22,
   "metadata": {
    "collapsed": true
   },
   "outputs": [],
   "source": [
    "import os\n",
    "import gensim\n",
    "from gensim.models.word2vec import Word2Vec\n",
    "from gensim.models import KeyedVectors\n",
    "from joblib import Parallel, delayed\n",
    "import pickle\n",
    "\n",
    "urls=[\n",
    "#     '1970-1974',\n",
    "#     '1975-1979',\n",
    "#     '1980-1984',\n",
    "#     '1985-1989',\n",
    "#     '1990-1994',\n",
    "#     '1995-1999',\n",
    "#     '2000-2004',\n",
    "#     '2005-2009',\n",
    "    '2010-2014',\n",
    "    '2015-2019',\n",
    "]\n",
    "\n",
    "outlet = \"lat\""
   ]
  },
  {
   "cell_type": "code",
   "execution_count": 23,
   "metadata": {
    "collapsed": true
   },
   "outputs": [],
   "source": [
    "def openFile(fileName):\n",
    "    inputPath = os.path.normpath(r'/home/liam/Downloads/latent-association/' + outlet + '/') \n",
    "#     inputPath = os.path.normpath(r'D:\\data\\nyt\\word2vecModelsMinCount1') \n",
    "    # fileName = 'NYTcorpusSentencesTest'\n",
    "    modelFilePath = os.path.join(inputPath,fileName)\n",
    "    model = KeyedVectors.load(modelFilePath,mmap='r')\n",
    "#     model = KeyedVectors.load(modelFilePath,mmap=None)\n",
    "    return {'model': model ,'year_range':fileName}"
   ]
  },
  {
   "cell_type": "code",
   "execution_count": 24,
   "metadata": {
    "collapsed": true
   },
   "outputs": [],
   "source": [
    "def convertToFloats(vectors):\n",
    "    new_vectors = []\n",
    "    for vector in vectors:\n",
    "        new_vectors.append(float(vector))\n",
    "    return new_vectors"
   ]
  },
  {
   "cell_type": "code",
   "execution_count": 25,
   "metadata": {
    "collapsed": true
   },
   "outputs": [],
   "source": [
    "models = Parallel(n_jobs=10)(delayed(openFile)(fileName) for fileName in urls)"
   ]
  },
  {
   "cell_type": "code",
   "execution_count": 26,
   "metadata": {},
   "outputs": [
    {
     "name": "stdout",
     "output_type": "stream",
     "text": [
      "2010-2014\n"
     ]
    },
    {
     "name": "stderr",
     "output_type": "stream",
     "text": [
      "/home/liam/anaconda3/lib/python3.6/site-packages/ipykernel_launcher.py:9: DeprecationWarning: Call to deprecated `__getitem__` (Method will be removed in 4.0.0, use self.wv.__getitem__() instead).\n",
      "  if __name__ == '__main__':\n"
     ]
    },
    {
     "name": "stdout",
     "output_type": "stream",
     "text": [
      "2015-2019\n"
     ]
    }
   ],
   "source": [
    "outputPath = os.path.normpath(r\"/home/liam/word_vectors/\" + outlet + '/')\n",
    "\n",
    "year_data = {}\n",
    "for model in models:\n",
    "    print(model[\"year_range\"])\n",
    "    year_data.update({model[\"year_range\"] : {}})\n",
    "    for word in model[\"model\"].wv.vocab:\n",
    "        year_data[model[\"year_range\"]].update(\n",
    "            {word: {\"vectors\": convertToFloats(model[\"model\"][word])}}\n",
    "        )\n",
    "        \n",
    "filePath = os.path.join(outputPath + \"/\" + outlet + str(urls))\n",
    "with open(filePath + \".pkl\", \"ab\") as f:\n",
    "    pickle.dump(year_data, f, pickle.HIGHEST_PROTOCOL)"
   ]
  },
  {
   "cell_type": "code",
   "execution_count": null,
   "metadata": {
    "collapsed": true
   },
   "outputs": [],
   "source": []
  }
 ],
 "metadata": {
  "kernelspec": {
   "display_name": "Python 3",
   "language": "python",
   "name": "python3"
  },
  "language_info": {
   "codemirror_mode": {
    "name": "ipython",
    "version": 3
   },
   "file_extension": ".py",
   "mimetype": "text/x-python",
   "name": "python",
   "nbconvert_exporter": "python",
   "pygments_lexer": "ipython3",
   "version": "3.6.2"
  }
 },
 "nbformat": 4,
 "nbformat_minor": 2
}
